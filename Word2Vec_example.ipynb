{
 "cells": [
  {
   "cell_type": "code",
   "execution_count": 1,
   "metadata": {
    "ExecuteTime": {
     "end_time": "2020-10-18T13:22:03.762334Z",
     "start_time": "2020-10-18T13:22:02.007228Z"
    }
   },
   "outputs": [],
   "source": [
    "import nltk\n",
    "from gensim.models import Word2Vec\n",
    "from nltk.corpus import stopwords\n",
    "import re"
   ]
  },
  {
   "cell_type": "code",
   "execution_count": 2,
   "metadata": {
    "ExecuteTime": {
     "end_time": "2020-10-18T13:22:03.801227Z",
     "start_time": "2020-10-18T13:22:03.796241Z"
    }
   },
   "outputs": [],
   "source": [
    "paragraph = \"\"\"I have three visions for India. In 3000 years of our history, people from all over \n",
    "            the world have come and invaded us, captured our lands, conquered our minds. \n",
    "            From Alexander onwards, the Greeks, the Turks, the Moguls, the Portuguese, the British, \n",
    "            the French, the Dutch, all of them came and looted us, took over what was ours. \n",
    "            Yet, we have not done this to any other nation. We have not conquered anyone.\n",
    "            We have not grabbed their land, their culture,\n",
    "            their history and tried to enforce our way of life on them.\n",
    "            Why? Because we respect the freedom of others. That is why my \n",
    "            first vision is that of freedom. I believe that India got its first vision of \n",
    "            this in 1857, when we started the war of Independence. It is this freedom that \n",
    "            we must protect and nurture and build on. If we are not free, no one will respect us.\n",
    "            My second vision for India’s developement.For fifty years we have been a developing nation. \n",
    "            It is time we see ourselves as a developed nation. We are among top five nations of the world \n",
    "            in terms of GDP. We have 10 per cent growth rate in most areas. Our poverty levels are falling. \n",
    "            Our achievements are being globally recognised today. Yet we lack the self-confidence to \n",
    "            see ourselves as a developed nation, self-reliant and self-assured. Isn’t this incorrect?\n",
    "            I have a third vision. India must stand up to the world. Because I believe that, unless India \n",
    "            stands up to the world, no one will respect us. Only strength respects strength. We must be \n",
    "            strong not only as a military power but also as an economic power. Both must go hand-in-hand.\n",
    "            My good fortune was to have worked with three great minds. Dr. Vikram Sarabhai of the Department of \n",
    "            Space, Professor Satish Dhawan, who succeeded him and Dr.Brahm Prakash, the father of nuclear material. \n",
    "            I was lucky to have worked with all three of them closely and consider this the great opportunity of my life.\n",
    "            I see four milestones in my career\"\"\""
   ]
  },
  {
   "cell_type": "code",
   "execution_count": 3,
   "metadata": {
    "ExecuteTime": {
     "end_time": "2020-10-18T13:22:05.903320Z",
     "start_time": "2020-10-18T13:22:05.897336Z"
    }
   },
   "outputs": [],
   "source": [
    "text = re.sub(r'\\[[0-9]*\\]',' ',paragraph)\n",
    "text = re.sub(r'\\s+',' ',text)\n",
    "text = text.lower()\n",
    "text = re.sub(r'\\d',' ',text)\n",
    "text = re.sub(r'\\s+',' ',text)"
   ]
  },
  {
   "cell_type": "code",
   "execution_count": 4,
   "metadata": {
    "ExecuteTime": {
     "end_time": "2020-10-18T13:22:08.770452Z",
     "start_time": "2020-10-18T13:22:08.755493Z"
    }
   },
   "outputs": [],
   "source": [
    "sentences = nltk.sent_tokenize(text)"
   ]
  },
  {
   "cell_type": "code",
   "execution_count": 5,
   "metadata": {
    "ExecuteTime": {
     "end_time": "2020-10-18T13:22:10.551309Z",
     "start_time": "2020-10-18T13:22:10.543349Z"
    }
   },
   "outputs": [],
   "source": [
    "sentences = [nltk.word_tokenize(sentence) for sentence in sentences]"
   ]
  },
  {
   "cell_type": "code",
   "execution_count": 6,
   "metadata": {
    "ExecuteTime": {
     "end_time": "2020-10-18T13:22:11.210664Z",
     "start_time": "2020-10-18T13:22:11.067064Z"
    }
   },
   "outputs": [],
   "source": [
    "for i in range(len(sentences)):\n",
    "    sentences[i] = [word for word in sentences[i] if word not in stopwords.words('english')]"
   ]
  },
  {
   "cell_type": "code",
   "execution_count": 7,
   "metadata": {
    "ExecuteTime": {
     "end_time": "2020-10-18T13:22:11.554864Z",
     "start_time": "2020-10-18T13:22:11.479033Z"
    }
   },
   "outputs": [],
   "source": [
    "model = Word2Vec(sentences, min_count=1)"
   ]
  },
  {
   "cell_type": "code",
   "execution_count": 8,
   "metadata": {
    "ExecuteTime": {
     "end_time": "2020-10-18T13:22:13.739840Z",
     "start_time": "2020-10-18T13:22:13.734854Z"
    }
   },
   "outputs": [],
   "source": [
    "words = model.wv.vocab"
   ]
  },
  {
   "cell_type": "code",
   "execution_count": 9,
   "metadata": {
    "ExecuteTime": {
     "end_time": "2020-10-18T13:22:15.202090Z",
     "start_time": "2020-10-18T13:22:15.199088Z"
    }
   },
   "outputs": [],
   "source": [
    "vector = model.wv['war']"
   ]
  },
  {
   "cell_type": "code",
   "execution_count": 13,
   "metadata": {
    "ExecuteTime": {
     "end_time": "2020-10-18T13:23:00.267647Z",
     "start_time": "2020-10-18T13:23:00.263656Z"
    }
   },
   "outputs": [],
   "source": [
    "similar = model.wv.most_similar('freedom')"
   ]
  },
  {
   "cell_type": "code",
   "execution_count": 14,
   "metadata": {
    "ExecuteTime": {
     "end_time": "2020-10-18T13:23:01.413499Z",
     "start_time": "2020-10-18T13:23:01.406552Z"
    }
   },
   "outputs": [
    {
     "data": {
      "text/plain": [
       "[('india', 0.27820679545402527),\n",
       " ('three', 0.27565866708755493),\n",
       " ('incorrect', 0.18672698736190796),\n",
       " ('developing', 0.17143495380878448),\n",
       " ('career', 0.16576144099235535),\n",
       " ('fifty', 0.1476358324289322),\n",
       " ('turks', 0.14578677713871002),\n",
       " ('gdp', 0.13892439007759094),\n",
       " ('great', 0.1347748339176178),\n",
       " ('looted', 0.13204196095466614)]"
      ]
     },
     "execution_count": 14,
     "metadata": {},
     "output_type": "execute_result"
    }
   ],
   "source": [
    "similar"
   ]
  },
  {
   "cell_type": "code",
   "execution_count": null,
   "metadata": {},
   "outputs": [],
   "source": []
  }
 ],
 "metadata": {
  "kernelspec": {
   "display_name": "Python 3",
   "language": "python",
   "name": "python3"
  },
  "language_info": {
   "codemirror_mode": {
    "name": "ipython",
    "version": 3
   },
   "file_extension": ".py",
   "mimetype": "text/x-python",
   "name": "python",
   "nbconvert_exporter": "python",
   "pygments_lexer": "ipython3",
   "version": "3.6.10"
  },
  "latex_envs": {
   "LaTeX_envs_menu_present": true,
   "autoclose": false,
   "autocomplete": true,
   "bibliofile": "biblio.bib",
   "cite_by": "apalike",
   "current_citInitial": 1,
   "eqLabelWithNumbers": true,
   "eqNumInitial": 1,
   "hotkeys": {
    "equation": "Ctrl-E",
    "itemize": "Ctrl-I"
   },
   "labels_anchors": false,
   "latex_user_defs": false,
   "report_style_numbering": false,
   "user_envs_cfg": false
  },
  "toc": {
   "base_numbering": 1,
   "nav_menu": {},
   "number_sections": true,
   "sideBar": true,
   "skip_h1_title": false,
   "title_cell": "Table of Contents",
   "title_sidebar": "Contents",
   "toc_cell": false,
   "toc_position": {},
   "toc_section_display": true,
   "toc_window_display": false
  },
  "varInspector": {
   "cols": {
    "lenName": 16,
    "lenType": 16,
    "lenVar": 40
   },
   "kernels_config": {
    "python": {
     "delete_cmd_postfix": "",
     "delete_cmd_prefix": "del ",
     "library": "var_list.py",
     "varRefreshCmd": "print(var_dic_list())"
    },
    "r": {
     "delete_cmd_postfix": ") ",
     "delete_cmd_prefix": "rm(",
     "library": "var_list.r",
     "varRefreshCmd": "cat(var_dic_list()) "
    }
   },
   "types_to_exclude": [
    "module",
    "function",
    "builtin_function_or_method",
    "instance",
    "_Feature"
   ],
   "window_display": false
  }
 },
 "nbformat": 4,
 "nbformat_minor": 4
}
